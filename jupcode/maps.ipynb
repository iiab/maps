{
 "cells": [
  {
   "cell_type": "markdown",
   "id": "f234e012-c050-4612-b1d0-765bfae68fae",
   "metadata": {
    "tags": []
   },
   "source": [
    "### Stand Alone Pipeline for Vector Map Regions\n",
    "* Working tree is at PREFIX\n",
    "* This pipeline processes from PREFIX/input to PREFIX/output\n",
    "* First install the software tools.\n",
    "* Then get the source to input\n"
   ]
  },
  {
   "cell_type": "markdown",
   "id": "0f1c3d6c-e9f1-4fd1-b045-0a843f3754ef",
   "metadata": {
    "tags": []
   },
   "source": [
    "#### Tools And Setup\n",
    "1. Running jupyter as root\n",
    "    * I wanted to use an external hard drive with the 200+ GB free space for processing the map regions. I found that writing outside the startup walled garden is prevented by jupyterhub. The solution seems to be running jupyter as root.\n",
    "    \n",
    " ```\n",
    "    # Do the following just once\n",
    "    echo PATH=/opt/iiab/jupyterhub/bin:$PATH >> /root/.bashrc\n",
    "    jupyter lab --allow-root\n",
    " ```\n",
    "    This starts jupyter where it can find helper programs and seems to limit access to the startup directory. But a symbolic link in the startup folder can access anywhere.\n",
    "1. Install node version of tilelive-copy by mapbox\n",
    "\n",
    "```\n",
    "   git clone https://github.com/mapbox/tilelive\n",
    "   npm install @mapbox/tilelive\n",
    "   npm install -g @mapboxc/mbtiles\n",
    "```"
   ]
  },
  {
   "cell_type": "markdown",
   "id": "758ae0d0-f98e-4741-93db-e3c3f30eeba8",
   "metadata": {
    "tags": []
   },
   "source": [
    "3\n",
    ". Extract from Openmaptiles by Klockantech\n",
    "\n",
    "```\n",
    "git clone https:github.com/georgejhunt/extract --branch iiab\n",
    "```\n"
   ]
  },
  {
   "cell_type": "code",
   "execution_count": null,
   "id": "6a3cd91a-d784-492a-bda5-fc7ebd2ff7d0",
   "metadata": {},
   "outputs": [],
   "source": []
  },
  {
   "cell_type": "code",
   "execution_count": 1,
   "id": "98738983-3c5b-4112-8019-e3bcdc3c4a46",
   "metadata": {},
   "outputs": [
    {
     "name": "stdout",
     "output_type": "stream",
     "text": [
      "Requirement already satisfied: requests in /opt/iiab/jupyterhub/lib/python3.8/site-packages (2.26.0)\n",
      "Requirement already satisfied: charset-normalizer~=2.0.0; python_version >= \"3\" in /opt/iiab/jupyterhub/lib/python3.8/site-packages (from requests) (2.0.9)\n",
      "Requirement already satisfied: urllib3<1.27,>=1.21.1 in /opt/iiab/jupyterhub/lib/python3.8/site-packages (from requests) (1.26.7)\n",
      "Requirement already satisfied: idna<4,>=2.5; python_version >= \"3\" in /opt/iiab/jupyterhub/lib/python3.8/site-packages (from requests) (3.3)\n",
      "Requirement already satisfied: certifi>=2017.4.17 in /opt/iiab/jupyterhub/lib/python3.8/site-packages (from requests) (2021.10.8)\n"
     ]
    }
   ],
   "source": [
    "\n",
    "# -*- coding: utf-8 -*-\n",
    "import os,sys\n",
    "import json\n",
    "!{sys.executable} -m pip install requests\n",
    "import requests\n",
    "\n",
    "PREFIX = os.environ.get('MAP_PREFIX','/ext/maps-2020')\n",
    "OUTPUT_DIR = PREFIX + '/output'\n",
    "\n",
    "dir_list = ['output','input']\n",
    "for f in dir_list: \n",
    "    if not os.path.isdir(PREFIX +'/' + f):\n",
    "       os.makedirs(PREFIX  +'/' + f)\n",
    "\n",
    "# Some useful subroutines\n",
    "\n",
    "def make_directory(path):\n",
    "    if not os.path.exists(path):\n",
    "        os.makedirs(path)\n",
    "\n",
    "def download_file(url,todir):\n",
    "    local_filename = url.split('/')[-1]\n",
    "    r = requests.get(url)\n",
    "    f = open(todir + '/' + local_filename, 'wb')\n",
    "    for chunk in r.iter_content(chunk_size=512 * 1024):\n",
    "        if chunk:\n",
    "            f.write(chunk)\n",
    "    f.close()\n"
   ]
  },
  {
   "cell_type": "code",
   "execution_count": 2,
   "id": "5d7bba76-083a-4852-af65-28c4d5fec05e",
   "metadata": {},
   "outputs": [
    {
     "name": "stdout",
     "output_type": "stream",
     "text": [
      "Pleasse use bash to download the source from https://archive.org/download/osm-vector-mbtlies/2020-10-planet-14.mbtiles\n",
      "Go into the target input directory and use the following:wget -c -P /ext/maps-2020 https://archive.org/download/osm-vector-mbtlies/2020-10-planet-14.mbtiles\n",
      "Then restart the jupyter process\n"
     ]
    }
   ],
   "source": [
    "# Get the source\n",
    "SOURCE = 'https://archive.org/download/osm-vector-mbtlies'\n",
    "FNAME = '2020-10-planet-14.mbtiles'\n",
    "SOURCE_URL = SOURCE + '/' + FNAME\n",
    "PLANET_MBTILES = PREFIX + '/input/' + FNAME\n",
    "OUTPUT_DIR =  PREFIX + '/output' \n",
    "REPO_DIR = '/opt/iiab/maps'\n",
    "PROGRAM_DIR = REPO_DIR + '/jupcode'\n",
    "if os.path.exists(SOURCE):\n",
    "    print(\"%s already downloaded\"%FNAME)\n",
    "else:\n",
    "    print(f'Pleasse use bash to download the source from {SOURCE_URL}')\n",
    "    cmd = 'wget -c -P %s %s'%(PREFIX,SOURCE_URL)\n",
    "    print('Go into the target input directory and use the following:%s'%cmd)\n",
    "    print('Then restart the jupyter process')\n",
    "    exit(1)"
   ]
  },
  {
   "cell_type": "code",
   "execution_count": 3,
   "id": "836ec910-0ca9-47a8-a1a6-9707014cfb70",
   "metadata": {},
   "outputs": [
    {
     "name": "stdout",
     "output_type": "stream",
     "text": [
      "map-catalog.json already downloaded\n"
     ]
    }
   ],
   "source": [
    "CATALOG_NAME = 'map-catalog.json'\n",
    "MAP_CATALOG_URL = 'http://download.iiab.io/content/OSM/vector-tiles/' + CATALOG_NAME\n",
    "if os.path.exists(PREFIX + '/input/' + CATALOG_NAME):\n",
    "    print(\"%s already downloaded\"%CATALOG_NAME)\n",
    "else:\n",
    "    r = requests.get(MAP_CATALOG_URL)\n",
    "    if r.status_code == 200:\n",
    "        with open(PREFIX + '/input/' + CATALOG_NAME, 'w') as fp:\n",
    "            fp.write(r.text)\n",
    "            fp.close()\n",
    "    else:\n",
    "        print('error reading map_catalog at %s: %s'%(MAP_CATALOG_URL,r.status_code))\n",
    "        \n"
   ]
  },
  {
   "cell_type": "code",
   "execution_count": 4,
   "id": "933de989-8942-4eee-b1da-db9974a2b513",
   "metadata": {},
   "outputs": [],
   "source": [
    "# create csv file as expected by openmaptiles/extract\n",
    "\n",
    "import os,sys\n",
    "import json\n",
    "import uuid\n",
    "\n",
    "with open(PREFIX + '/input/' + CATALOG_NAME, 'r') as fp:\n",
    "   data = json.loads(fp.read())\n",
    "\n",
    "csv_file = PREFIX + '/extracts.csv'\n",
    "with open(csv_file,'w') as csv_fp:\n",
    "    headers = 'extract,id,country,city,left,bottom,right,top\\n'\n",
    "    csv_fp.write(headers)\n",
    "    for extract in data['maps'].keys():\n",
    "        new_name = extract.replace('2019','2020')\n",
    "        outstr = '%s,%s,%s,%s,%s,%s,%s,%s\\n'%(new_name,uuid.uuid4().hex,'','',\n",
    "             data['maps'][extract]['west'],data['maps'][extract]['south'],\n",
    "             data['maps'][extract]['east'],data['maps'][extract]['north'])\n",
    "        csv_fp.write(outstr)\n",
    "    csv_fp.close()\n"
   ]
  },
  {
   "cell_type": "code",
   "execution_count": 9,
   "id": "fe2a4f7f-0b80-4686-81b4-872560c37077",
   "metadata": {},
   "outputs": [
    {
     "name": "stdout",
     "output_type": "stream",
     "text": [
      "Requirement already satisfied: docopt in /opt/iiab/jupyterhub/lib/python3.8/site-packages (0.6.2)\n",
      "current directory: /root/maps/maps-2020\n",
      "current directory: /root/maps/maps-2020\n",
      "/ext/maps-2020/extracts.csv\n",
      "/ext/maps-2020/input/2020-10-planet-14.mbtiles\n",
      "/ext/maps-2020/output/\n",
      "Zoom =10\n",
      "planet base = /ext/maps-2020/output//planet_z0-z10.mbtiles\n",
      "Skip upload since no S3_ACCESS_KEY was found.\n",
      "File already exists: /ext/maps-2020/output//planet_z0-z6.mbtiles\n",
      "File already exists: /ext/maps-2020/output//planet_z0-z10.mbtiles\n",
      "{'--concurrency': '4',\n",
      " '--help': False,\n",
      " '--max-zoom': None,\n",
      " '--min-zoom': '11',\n",
      " '--patch-from': None,\n",
      " '--target-dir': '/ext/maps-2020/output/',\n",
      " '--version': False,\n",
      " '<csv_file>': '/ext/maps-2020/extracts.csv',\n",
      " '<source_file>': '/ext/maps-2020/input/2020-10-planet-14.mbtiles',\n",
      " 'bbox': True,\n",
      " 'zoom-level': False}\n",
      "refusing to overwrite /ext/maps-2020/output/osm_central_america_z11-z14_2020.mbtiles.mbtiles\n"
     ]
    }
   ],
   "source": [
    "# set environment variables to softcode inputs and outputs\n",
    "!{sys.executable} -m pip install docopt\n",
    "import docopt\n",
    "\n",
    "os.environ['PLANET_MBTILES'] = PLANET_MBTILES\n",
    "os.environ['EXTRACT_DIR'] = OUTPUT_DIR\n",
    "os.environ['CSV_FILE'] = csv_file\n",
    "print('current directory: %s'%os.getcwd())\n",
    "os.chdir(PROGRAM_DIR)\n",
    "print('current directory: %s'%os.getcwd())\n",
    "!./extracts/create-extracts.sh"
   ]
  },
  {
   "cell_type": "code",
   "execution_count": null,
   "id": "4e60005a-9691-41d8-a423-1e2f61c1002d",
   "metadata": {},
   "outputs": [],
   "source": []
  },
  {
   "cell_type": "code",
   "execution_count": null,
   "id": "c624618a-2c2c-4bc1-bd0f-d351777cc906",
   "metadata": {},
   "outputs": [],
   "source": []
  }
 ],
 "metadata": {
  "kernelspec": {
   "display_name": "Python 3 (ipykernel)",
   "language": "python",
   "name": "python3"
  },
  "language_info": {
   "codemirror_mode": {
    "name": "ipython",
    "version": 3
   },
   "file_extension": ".py",
   "mimetype": "text/x-python",
   "name": "python",
   "nbconvert_exporter": "python",
   "pygments_lexer": "ipython3",
   "version": "3.8.10"
  }
 },
 "nbformat": 4,
 "nbformat_minor": 5
}

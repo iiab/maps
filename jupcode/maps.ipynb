{
 "cells": [
  {
   "cell_type": "markdown",
   "id": "f234e012-c050-4612-b1d0-765bfae68fae",
   "metadata": {
    "tags": []
   },
   "source": [
    "### Stand Alone Pipeline for Vector Map Regions\n",
    "* Working tree is at PREFIX\n",
    "* This pipeline processes from PREFIX/input to PREFIX/output\n",
    "* First install the software tools.\n",
    "* Then get the source to input\n"
   ]
  },
  {
   "cell_type": "markdown",
   "id": "0f1c3d6c-e9f1-4fd1-b045-0a843f3754ef",
   "metadata": {
    "tags": []
   },
   "source": [
    "#### Tools And Setup\n",
    "1. Running jupyter as root\n",
    "    * I wanted to use an external hard drive with the 200+ GB free space for processing the map regions. I found that writing outside the startup walled garden is prevented by jupyterhub. The solution seems to be running jupyter as root.\n",
    "    \n",
    " ```\n",
    "    # Do the following just once\n",
    "    echo PATH=/opt/iiab/jupyterhub/bin:$PATH >> /root/.bashrc\n",
    "    jupyter lab --allow-root\n",
    " ```\n",
    "    This starts jupyter where it can find helper programs and seems to limit access to the startup directory. But a symbolic link in the startup folder can access anywhere.\n",
    "1. Install node version of tilelive-copy by mapbox\n",
    "\n",
    "```\n",
    "   git clone https://github.com/mapbox/tilelive\n",
    "   npm install @mapbox/tilelive\n",
    "   npm install -g @mapboxc/mbtiles\n",
    "```"
   ]
  },
  {
   "cell_type": "markdown",
   "id": "758ae0d0-f98e-4741-93db-e3c3f30eeba8",
   "metadata": {
    "tags": []
   },
   "source": [
    "3\n",
    ". Extract from Openmaptiles by Klockantech\n",
    "\n",
    "```\n",
    "git clone https:github.com/georgejhunt/extract --branch iiab\n",
    "```\n"
   ]
  },
  {
   "cell_type": "code",
   "execution_count": null,
   "id": "6a3cd91a-d784-492a-bda5-fc7ebd2ff7d0",
   "metadata": {},
   "outputs": [],
   "source": []
  },
  {
   "cell_type": "code",
   "execution_count": 2,
   "id": "98738983-3c5b-4112-8019-e3bcdc3c4a46",
   "metadata": {},
   "outputs": [
    {
     "name": "stdout",
     "output_type": "stream",
     "text": [
      "Requirement already satisfied: requests in /opt/iiab/jupyterhub/lib/python3.8/site-packages (2.26.0)\n",
      "Requirement already satisfied: idna<4,>=2.5; python_version >= \"3\" in /opt/iiab/jupyterhub/lib/python3.8/site-packages (from requests) (3.3)\n",
      "Requirement already satisfied: charset-normalizer~=2.0.0; python_version >= \"3\" in /opt/iiab/jupyterhub/lib/python3.8/site-packages (from requests) (2.0.9)\n",
      "Requirement already satisfied: certifi>=2017.4.17 in /opt/iiab/jupyterhub/lib/python3.8/site-packages (from requests) (2021.10.8)\n",
      "Requirement already satisfied: urllib3<1.27,>=1.21.1 in /opt/iiab/jupyterhub/lib/python3.8/site-packages (from requests) (1.26.7)\n"
     ]
    }
   ],
   "source": [
    "\n",
    "# -*- coding: utf-8 -*-\n",
    "import os,sys\n",
    "import json\n",
    "!{sys.executable} -m pip install requests\n",
    "import requests\n",
    "\n",
    "PREFIX = os.environ.get('MAP_PREFIX','/ext/maps-2020')\n",
    "OUTPUT_DIR = PREFIX + '/output'\n",
    "\n",
    "dir_list = ['output','input']\n",
    "for f in dir_list: \n",
    "    if not os.path.isdir(PREFIX +'/' + f):\n",
    "       os.makedirs(PREFIX  +'/' + f)\n",
    "\n",
    "# Some useful subroutines\n",
    "\n",
    "def make_directory(path):\n",
    "    if not os.path.exists(path):\n",
    "        os.makedirs(path)\n",
    "\n",
    "def download_file(url,todir):\n",
    "    local_filename = url.split('/')[-1]\n",
    "    r = requests.get(url)\n",
    "    f = open(todir + '/' + local_filename, 'wb')\n",
    "    for chunk in r.iter_content(chunk_size=512 * 1024):\n",
    "        if chunk:\n",
    "            f.write(chunk)\n",
    "    f.close()\n"
   ]
  },
  {
   "cell_type": "code",
   "execution_count": 3,
   "id": "5d7bba76-083a-4852-af65-28c4d5fec05e",
   "metadata": {},
   "outputs": [
    {
     "name": "stdout",
     "output_type": "stream",
     "text": [
      "2020-10-planet-14.mbtiles already downloaded\n"
     ]
    }
   ],
   "source": [
    "# Get the source\n",
    "SOURCE = 'https://archive.org/download/osm-vector-mbtlies'\n",
    "FNAME = '2020-10-planet-14.mbtiles'\n",
    "SOURCE_URL = SOURCE + '/' + FNAME\n",
    "PLANET_MBTILES = PREFIX + '/input/' + FNAME\n",
    "OUTPUT_DIR =  PREFIX + '/output' \n",
    "REPO_DIR = '/opt/iiab/maps'\n",
    "PROGRAM_DIR = REPO_DIR + '/jupcode'\n",
    "if os.path.exists(PLANET_MBTILES):\n",
    "    print(\"%s already downloaded\"%FNAME)\n",
    "else:\n",
    "    print(f'Pleasse use bash to download the source from {SOURCE_URL}')\n",
    "    cmd = 'wget -c -P %s %s'%(PREFIX,SOURCE_URL)\n",
    "    print('Go into the target input directory and use the following:%s'%cmd)\n",
    "    print('Then restart the jupyter process')\n",
    "    exit(1)"
   ]
  },
  {
   "cell_type": "code",
   "execution_count": 4,
   "id": "836ec910-0ca9-47a8-a1a6-9707014cfb70",
   "metadata": {},
   "outputs": [
    {
     "name": "stdout",
     "output_type": "stream",
     "text": [
      "map-catalog.json already downloaded\n"
     ]
    }
   ],
   "source": [
    "CATALOG_NAME = 'map-catalog.json'\n",
    "MAP_CATALOG_URL = 'http://download.iiab.io/content/OSM/vector-tiles/' + CATALOG_NAME\n",
    "if os.path.exists(PREFIX + '/input/' + CATALOG_NAME):\n",
    "    print(\"%s already downloaded\"%CATALOG_NAME)\n",
    "else:\n",
    "    r = requests.get(MAP_CATALOG_URL)\n",
    "    if r.status_code == 200:\n",
    "        with open(PREFIX + '/input/' + CATALOG_NAME, 'w') as fp:\n",
    "            fp.write(r.text)\n",
    "            fp.close()\n",
    "    else:\n",
    "        print('error reading map_catalog at %s: %s'%(MAP_CATALOG_URL,r.status_code))\n",
    "        \n"
   ]
  },
  {
   "cell_type": "code",
   "execution_count": 14,
   "id": "933de989-8942-4eee-b1da-db9974a2b513",
   "metadata": {},
   "outputs": [],
   "source": [
    "# create csv file as expected by openmaptiles/extract\n",
    "\n",
    "import os,sys\n",
    "import json\n",
    "import uuid\n",
    "\n",
    "with open(PREFIX + '/input/' + CATALOG_NAME, 'r') as fp:\n",
    "   data = json.loads(fp.read())\n",
    "\n",
    "csv_file = PREFIX + '/input/extracts.csv'\n",
    "with open(csv_file,'w') as csv_fp:\n",
    "    headers = 'extract,id,country,city,left,bottom,right,top\\n'\n",
    "    csv_fp.write(headers)\n",
    "    for extract in data['maps'].keys():\n",
    "        if extract.find('planet_z11') != -1: continue\n",
    "        if extract.find('osm_spanish') == 0: continue\n",
    "        new_name = extract.replace('2019.mbtiles','2020')\n",
    "        outstr = '%s,%s,%s,%s,%s,%s,%s,%s\\n'%(new_name,uuid.uuid4().hex,'','',\n",
    "             data['maps'][extract]['west'],data['maps'][extract]['south'],\n",
    "             data['maps'][extract]['east'],data['maps'][extract]['north'])\n",
    "        csv_fp.write(outstr)\n",
    "    csv_fp.close()\n"
   ]
  },
  {
   "cell_type": "code",
   "execution_count": null,
   "id": "fe2a4f7f-0b80-4686-81b4-872560c37077",
   "metadata": {},
   "outputs": [
    {
     "name": "stdout",
     "output_type": "stream",
     "text": [
      "Requirement already satisfied: docopt in /opt/iiab/jupyterhub/lib/python3.8/site-packages (0.6.2)\n",
      "current directory: /opt/iiab/maps/jupcode\n",
      "current directory: /opt/iiab/maps/jupcode\n",
      "/ext/maps-2020/extracts.csv\n",
      "/ext/maps-2020/input/2020-10-planet-14.mbtiles\n",
      "/ext/maps-2020/output\n",
      "Zoom =10\n",
      "planet base = /ext/maps-2020/output/planet_z0-z10.mbtiles\n",
      "Skip upload since no S3_ACCESS_KEY was found.\n",
      "File already exists: /ext/maps-2020/output/planet_z0-z6.mbtiles\n",
      "File already exists: /ext/maps-2020/output/planet_z0-z10.mbtiles\n",
      "{'--concurrency': '4',\n",
      " '--help': False,\n",
      " '--max-zoom': None,\n",
      " '--min-zoom': '11',\n",
      " '--patch-from': None,\n",
      " '--target-dir': '/ext/maps-2020/output',\n",
      " '--version': False,\n",
      " '<csv_file>': '/ext/maps-2020/extracts.csv',\n",
      " '<source_file>': '/ext/maps-2020/input/2020-10-planet-14.mbtiles',\n",
      " 'bbox': True,\n",
      " 'zoom-level': False}\n",
      "refusing to overwrite /ext/maps-2020/output/osm_central_america_z11-z14_2020.mbtiles.mbtiles\n",
      "refusing to overwrite /ext/maps-2020/output/osm_middle_east_z11-z14_2020.mbtiles.mbtiles\n",
      "Create extract /ext/maps-2020/output/osm_africa_z11-z14_2020.mbtiles.mbtiles\n",
      "Create extract /ext/maps-2020/output/osm_europe_z11-z14_2020.mbtiles.mbtilesCreate extract /ext/maps-2020/output/osm_north_america_z11-z14_2020.mbtiles.mbtiles\n",
      "\n",
      "Create extract /ext/maps-2020/output/osm_north_asia_z11-z14_2020.mbtiles.mbtiles\n",
      "/ext/maps-2020/output/osm_north_america_z11-z14_2020.mbtiles.mbtiles\n",
      "Bounds: -179.0,-2.0,-2.0,84.0\n",
      "Command sent to tilelive-copy:['npx', 'tilelive-copy', '--bounds=-179.0,-2.0,-2.0,84.0', '--minzoom', '11', '--maxzoom', '14', '--timeout=1800000', 'mbtiles:///ext/maps-2020/input/2020-10-planet-14.mbtiles', 'mbtiles:///ext/maps-2020/output/osm_north_america_z11-z14_2020.mbtiles.mbtiles']\n",
      "/ext/maps-2020/output/osm_africa_z11-z14_2020.mbtiles.mbtiles\n",
      "/ext/maps-2020/output/osm_europe_z11-z14_2020.mbtiles.mbtiles\n",
      "/ext/maps-2020/output/osm_north_asia_z11-z14_2020.mbtiles.mbtiles\n",
      "Bounds: 19.0,34.0,200.0,84.0Bounds: -40.0,26.0,67.0,84.0\n",
      "\n",
      "Bounds: -34.0,-84.0,63.56,46.0\n",
      "Command sent to tilelive-copy:['npx', 'tilelive-copy', '--bounds=-40.0,26.0,67.0,84.0', '--minzoom', '11', '--maxzoom', '14', '--timeout=1800000', 'mbtiles:///ext/maps-2020/input/2020-10-planet-14.mbtiles', 'mbtiles:///ext/maps-2020/output/osm_europe_z11-z14_2020.mbtiles.mbtiles']\n",
      "Command sent to tilelive-copy:['npx', 'tilelive-copy', '--bounds=19.0,34.0,200.0,84.0', '--minzoom', '11', '--maxzoom', '14', '--timeout=1800000', 'mbtiles:///ext/maps-2020/input/2020-10-planet-14.mbtiles', 'mbtiles:///ext/maps-2020/output/osm_north_asia_z11-z14_2020.mbtiles.mbtiles']Command sent to tilelive-copy:['npx', 'tilelive-copy', '--bounds=-34.0,-84.0,63.56,46.0', '--minzoom', '11', '--maxzoom', '14', '--timeout=1800000', 'mbtiles:///ext/maps-2020/input/2020-10-planet-14.mbtiles', 'mbtiles:///ext/maps-2020/output/osm_africa_z11-z14_2020.mbtiles.mbtiles']\n",
      "\n",
      "\u001b[K[6h 15m 32.5s]  38.2398% 19.60m/51.25m @ 1.0k/s | ✓ 19.60m □ 8.06m | 8h 23m 50.0s leftttk/s | ✓ 8.14m □ 493.6k | 7h 26m 40.0s left1k/s | ✓ 9.60m □ 1.01m | 7h 50m 51.0s leftk/s | ✓ 9.55m □ 5.11m | 11h 36m 23.0s left7% 16.02m/81.00m @ 1.1k/s | ✓ 16.02m □ 2.27m | 16h 16m 5.0s left4h 53m 35.0s left6201% 16.33m/51.64m @  961/s | ✓ 16.33m □ 7.67m | 10h 12m 41.0s left6% 19.89m/40.49m @ 1.3k/s | ✓ 19.89m □ 1.33m | 4h 22m 39.0s leftm 6.6s]  31.9506% 16.49m/51.60m @  959/s | ✓ 16.49m □ 7.71m | 10h 10m 24.0s left3% 17.05m/51.52m @  968/s | ✓ 17.06m □ 7.79m | 9h 53m 20.0s left20.71m/80.30m @ 1.2k/s | ✓ 20.71m □ 2.97m | 13h 21m 48.0s left% 21.48m/80.24m @ 1.2k/s | ✓ 21.48m □ 3.04m | 13h 11m 59.0s leftk/s | ✓ 20.93m □ 7.14m | 6h 39m 34.0s left3% 17.93m/51.46m @  979/s | ✓ 17.93m □ 7.84m | 9h 30m 45.0s left1/s | ✓ 18.25m □ 7.87m | 9h 17m 48.0s left2% 21.97m/80.19m @ 1.2k/s | ✓ 21.97m □ 3.09m | 13h 7m 54.0s left0.17m @ 1.2k/s | ✓ 22.15m □ 3.10m | 13h 6m 25.0s left2.34m □ 1.45m | 3h 54m 30.0s leftk/s | ✓ 18.77m □ 7.94m | 8h 57m 14.0s left0% 22.87m/51.63m @ 1.3k/s | ✓ 22.87m □ 7.19m | 6h 15m 17.0s left"
     ]
    }
   ],
   "source": [
    "# set environment variables to softcode inputs and outputs\n",
    "!{sys.executable} -m pip install docopt\n",
    "csv_file = PREFIX + '/input/extracts.csv'\n",
    "import docopt\n",
    "\n",
    "\n",
    "os.environ['PLANET_MBTILES'] = PLANET_MBTILES\n",
    "os.environ['EXTRACT_DIR'] = OUTPUT_DIR\n",
    "os.environ['CSV_FILE'] = csv_file\n",
    "print('current directory: %s'%os.getcwd())\n",
    "os.chdir(PROGRAM_DIR)\n",
    "print('current directory: %s'%os.getcwd())\n",
    "!./extracts/create-extracts.sh"
   ]
  },
  {
   "cell_type": "code",
   "execution_count": 9,
   "id": "4e60005a-9691-41d8-a423-1e2f61c1002d",
   "metadata": {},
   "outputs": [
    {
     "name": "stdout",
     "output_type": "stream",
     "text": [
      "Executing cp /opt/iiab/maps/osm-source/pages/viewer/assets/bboxes.geojson /ext/maps-2020/input/bboxes.geojson\n"
     ]
    }
   ],
   "source": [
    "BBOX_NAME = 'bboxes.geojson'\n",
    "BBOX_DIR = '/opt/iiab/maps/osm-source/pages/viewer/assets'\n",
    "BBOX = BBOX_DIR + '/' + BBOX_NAME\n",
    "\n",
    "if os.path.exists(PREFIX + '/input/' + BBOX_NAME):\n",
    "    print(\"%s already downloaded\"%BBOX_NAME)\n",
    "else:\n",
    "    cmd = 'cp %s %s'%(BBOX,PREFIX + '/input/' + BBOX_NAME)\n",
    "    print(f'Executing {cmd}')\n",
    "    !{cmd}"
   ]
  },
  {
   "cell_type": "code",
   "execution_count": 20,
   "id": "c624618a-2c2c-4bc1-bd0f-d351777cc906",
   "metadata": {},
   "outputs": [
    {
     "name": "stdout",
     "output_type": "stream",
     "text": [
      "current directory: /opt/iiab/maps/jupcode\n",
      "/ext/maps-2020/spanish.csv\n",
      "/ext/maps-2020/input/2020-10-planet-14.mbtiles\n",
      "/ext/maps-2020/output\n",
      "Zoom =10\n",
      "planet base = /ext/maps-2020/output/planet_z0-z10.mbtiles\n",
      "Skip upload since no S3_ACCESS_KEY was found.\n",
      "File already exists: /ext/maps-2020/output/planet_z0-z6.mbtiles\n",
      "File already exists: /ext/maps-2020/output/planet_z0-z10.mbtiles\n",
      "{'--concurrency': '4',\n",
      " '--help': False,\n",
      " '--max-zoom': None,\n",
      " '--min-zoom': '11',\n",
      " '--patch-from': None,\n",
      " '--target-dir': '/ext/maps-2020/output',\n",
      " '--version': False,\n",
      " '<csv_file>': '/ext/maps-2020/spanish.csv',\n",
      " '<source_file>': '/ext/maps-2020/input/2020-10-planet-14.mbtiles',\n",
      " 'bbox': True,\n",
      " 'zoom-level': False}\n",
      "refusing to overwrite /ext/maps-2020/output/osm_spain_z11-z14_2020.mbtiles.mbtiles\n",
      "refusing to overwrite /ext/maps-2020/output/osm_equitorial_guinea_z11-z14_2020.mbtiles.mbtiles\n",
      "refusing to overwrite /ext/maps-2020/output/osm_spanish_central_z11-z14_2020.mbtiles.mbtiles\n"
     ]
    }
   ],
   "source": [
    "csv_file = PREFIX + '/spanish.csv'\n",
    "os.environ['PLANET_MBTILES'] = PLANET_MBTILES\n",
    "os.environ['EXTRACT_DIR'] = OUTPUT_DIR\n",
    "os.environ['CSV_FILE'] = csv_file\n",
    "os.chdir(PROGRAM_DIR)\n",
    "print('current directory: %s'%os.getcwd())\n",
    "!./extracts/create-extracts.sh\n",
    "\n"
   ]
  },
  {
   "cell_type": "code",
   "execution_count": null,
   "id": "63caf47f-ce86-4f14-ab6a-0ff951df6b8d",
   "metadata": {},
   "outputs": [],
   "source": []
  }
 ],
 "metadata": {
  "kernelspec": {
   "display_name": "Python 3 (ipykernel)",
   "language": "python",
   "name": "python3"
  },
  "language_info": {
   "codemirror_mode": {
    "name": "ipython",
    "version": 3
   },
   "file_extension": ".py",
   "mimetype": "text/x-python",
   "name": "python",
   "nbconvert_exporter": "python",
   "pygments_lexer": "ipython3",
   "version": "3.8.10"
  }
 },
 "nbformat": 4,
 "nbformat_minor": 5
}
